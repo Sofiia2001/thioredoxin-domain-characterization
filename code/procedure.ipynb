{
 "cells": [
  {
   "cell_type": "markdown",
   "id": "ceSBpfr4WFLw",
   "metadata": {
    "id": "ceSBpfr4WFLw"
   },
   "source": [
    "### Notes\n",
    "Files:\n",
    "  - blast_P07237.xml: Result of blast\n",
    "  - hitted_seqs_from_blast_P07237.fasta: Full sequences of the proteins hit in blast\n",
    "  - clustal_blast_P07237.fasta: Clustal Omega MSA of the hitted proteins\n",
    "  - refined_clustal_blast_P07237.fasta: Same as previous but refined using JalView. The msa was refined in different ways and so there are different versions of this file. The techniques applyied for refining are described below.\n",
    "  - irrelevant.fasta: Irrelevant file required by psiblast script"
   ]
  },
  {
   "cell_type": "markdown",
   "id": "15CXD2plXBcl",
   "metadata": {
    "id": "15CXD2plXBcl"
   },
   "source": [
    "### Steps and Code"
   ]
  },
  {
   "cell_type": "code",
   "execution_count": 1,
   "id": "0038795d",
   "metadata": {
    "id": "0038795d"
   },
   "outputs": [],
   "source": [
    "# !python -m pip install biopython\n",
    "from Bio import SeqIO\n",
    "from Bio.Blast import NCBIXML\n",
    "import pandas as pd\n",
    "import requests"
   ]
  },
  {
   "cell_type": "markdown",
   "id": "MIxk7ld0QlXB",
   "metadata": {
    "id": "MIxk7ld0QlXB"
   },
   "source": [
    "1. Perform a blast search using our assigned sequence on https://www.ebi.ac.uk/Tools/sss/ncbiblast \\\n",
    "Parameters:\n",
    "  - database: UniProtKB/Swiss-Prot\n",
    "  - alignment-views: BLASTXML\n",
    "  - exp. thr.: 10\n",
    "  - scores: 500\n",
    "  - alignments: 500"
   ]
  },
  {
   "cell_type": "markdown",
   "id": "fgkRlczsQx4K",
   "metadata": {
    "id": "fgkRlczsQx4K"
   },
   "source": [
    "2. Download results doing: \"Tool output\" --> Right click \"Download\" --> \"Save link as...\" --> \"blast_P07237.xml\""
   ]
  },
  {
   "cell_type": "markdown",
   "id": "LkWhDQNMQ5EV",
   "metadata": {
    "id": "LkWhDQNMQ5EV"
   },
   "source": [
    "\n",
    "3. Format hits in a dataframe"
   ]
  },
  {
   "cell_type": "code",
   "execution_count": 5,
   "id": "7c96d2a4",
   "metadata": {
    "id": "7c96d2a4"
   },
   "outputs": [],
   "source": [
    "blastFile = 'blast_P07237.xml'"
   ]
  },
  {
   "cell_type": "code",
   "execution_count": 6,
   "id": "75251b97",
   "metadata": {
    "id": "75251b97"
   },
   "outputs": [
    {
     "data": {
      "text/html": [
       "<div>\n",
       "<style scoped>\n",
       "    .dataframe tbody tr th:only-of-type {\n",
       "        vertical-align: middle;\n",
       "    }\n",
       "\n",
       "    .dataframe tbody tr th {\n",
       "        vertical-align: top;\n",
       "    }\n",
       "\n",
       "    .dataframe thead th {\n",
       "        text-align: right;\n",
       "    }\n",
       "</style>\n",
       "<table border=\"1\" class=\"dataframe\">\n",
       "  <thead>\n",
       "    <tr style=\"text-align: right;\">\n",
       "      <th></th>\n",
       "      <th>query_id</th>\n",
       "      <th>subject_id</th>\n",
       "      <th>query_len</th>\n",
       "      <th>query_seq</th>\n",
       "      <th>match_seq</th>\n",
       "      <th>subject_seq</th>\n",
       "      <th>query_start</th>\n",
       "      <th>query_end</th>\n",
       "      <th>subject_start</th>\n",
       "      <th>subject_end</th>\n",
       "      <th>identity</th>\n",
       "      <th>positive</th>\n",
       "      <th>gaps</th>\n",
       "      <th>eval</th>\n",
       "      <th>bit_score</th>\n",
       "    </tr>\n",
       "  </thead>\n",
       "  <tbody>\n",
       "    <tr>\n",
       "      <th>0</th>\n",
       "      <td>EMBOSS_001</td>\n",
       "      <td>SP:Q5R5B6 PDIA1_PONAB Protein disulfide-isomer...</td>\n",
       "      <td>106</td>\n",
       "      <td>VLVLRKSNFAEALAAHKYLLVEFYAPWCGHCKALAPEYAKAAGKLK...</td>\n",
       "      <td>VLVLRKSNFAEALAAHKYLLVEFYAPWCGHCKALAPEYAKAAGKLK...</td>\n",
       "      <td>VLVLRKSNFAEALAAHKYLLVEFYAPWCGHCKALAPEYAKAAGKLK...</td>\n",
       "      <td>1</td>\n",
       "      <td>106</td>\n",
       "      <td>26</td>\n",
       "      <td>131</td>\n",
       "      <td>106</td>\n",
       "      <td>106</td>\n",
       "      <td>0</td>\n",
       "      <td>2.440510e-69</td>\n",
       "      <td>555.0</td>\n",
       "    </tr>\n",
       "    <tr>\n",
       "      <th>1</th>\n",
       "      <td>EMBOSS_001</td>\n",
       "      <td>SP:P07237 PDIA1_HUMAN Protein disulfide-isomer...</td>\n",
       "      <td>106</td>\n",
       "      <td>VLVLRKSNFAEALAAHKYLLVEFYAPWCGHCKALAPEYAKAAGKLK...</td>\n",
       "      <td>VLVLRKSNFAEALAAHKYLLVEFYAPWCGHCKALAPEYAKAAGKLK...</td>\n",
       "      <td>VLVLRKSNFAEALAAHKYLLVEFYAPWCGHCKALAPEYAKAAGKLK...</td>\n",
       "      <td>1</td>\n",
       "      <td>106</td>\n",
       "      <td>26</td>\n",
       "      <td>131</td>\n",
       "      <td>106</td>\n",
       "      <td>106</td>\n",
       "      <td>0</td>\n",
       "      <td>2.440510e-69</td>\n",
       "      <td>555.0</td>\n",
       "    </tr>\n",
       "  </tbody>\n",
       "</table>\n",
       "</div>"
      ],
      "text/plain": [
       "     query_id                                         subject_id  query_len  \\\n",
       "0  EMBOSS_001  SP:Q5R5B6 PDIA1_PONAB Protein disulfide-isomer...        106   \n",
       "1  EMBOSS_001  SP:P07237 PDIA1_HUMAN Protein disulfide-isomer...        106   \n",
       "\n",
       "                                           query_seq  \\\n",
       "0  VLVLRKSNFAEALAAHKYLLVEFYAPWCGHCKALAPEYAKAAGKLK...   \n",
       "1  VLVLRKSNFAEALAAHKYLLVEFYAPWCGHCKALAPEYAKAAGKLK...   \n",
       "\n",
       "                                           match_seq  \\\n",
       "0  VLVLRKSNFAEALAAHKYLLVEFYAPWCGHCKALAPEYAKAAGKLK...   \n",
       "1  VLVLRKSNFAEALAAHKYLLVEFYAPWCGHCKALAPEYAKAAGKLK...   \n",
       "\n",
       "                                         subject_seq  query_start  query_end  \\\n",
       "0  VLVLRKSNFAEALAAHKYLLVEFYAPWCGHCKALAPEYAKAAGKLK...            1        106   \n",
       "1  VLVLRKSNFAEALAAHKYLLVEFYAPWCGHCKALAPEYAKAAGKLK...            1        106   \n",
       "\n",
       "   subject_start  subject_end  identity  positive  gaps          eval  \\\n",
       "0             26          131       106       106     0  2.440510e-69   \n",
       "1             26          131       106       106     0  2.440510e-69   \n",
       "\n",
       "   bit_score  \n",
       "0      555.0  \n",
       "1      555.0  "
      ]
     },
     "metadata": {},
     "output_type": "display_data"
    },
    {
     "name": "stdout",
     "output_type": "stream",
     "text": [
      "(500, 15)\n"
     ]
    }
   ],
   "source": [
    "with open(blastFile) as f:\n",
    "    blast_records = NCBIXML.parse(f)\n",
    "    data = []\n",
    "\n",
    "    # Iterate PSIBLAST rounds (here just one since it is a simple BLAST)\n",
    "    for blast_record in blast_records:\n",
    "        query_id = blast_record.query\n",
    "        # Iterate queries (here just one)\n",
    "        for i, alignment in enumerate(blast_record.alignments):\n",
    "            subject_id = alignment.title\n",
    "            # Iterate pairwise alignments\n",
    "            for hsp in alignment.hsps:\n",
    "                data.append((query_id,\n",
    "                              subject_id,\n",
    "                              blast_record.query_length,\n",
    "                              hsp.query,\n",
    "                              hsp.match,\n",
    "                              hsp.sbjct,\n",
    "                              hsp.query_start,\n",
    "                              hsp.query_end,\n",
    "                              hsp.sbjct_start,\n",
    "                              hsp.sbjct_end,\n",
    "                              hsp.identities,\n",
    "                              hsp.positives,\n",
    "                              hsp.gaps,\n",
    "                              hsp.expect,\n",
    "                              hsp.score))\n",
    "                # Skip duplicated subjects\n",
    "                break\n",
    "                \n",
    "df = pd.DataFrame(data, columns=[\"query_id\", \"subject_id\", \"query_len\",\n",
    "                                  \"query_seq\", \"match_seq\", \"subject_seq\",\n",
    "                                \"query_start\", \"query_end\", \"subject_start\", \"subject_end\", \n",
    "                                \"identity\", \"positive\", \"gaps\", \"eval\", \"bit_score\"])\n",
    "\n",
    "display(df.head(2))\n",
    "print(df.shape)"
   ]
  },
  {
   "cell_type": "code",
   "execution_count": 7,
   "id": "31aaa67b",
   "metadata": {},
   "outputs": [],
   "source": [
    "df.to_excel('temp.xlsx')"
   ]
  },
  {
   "cell_type": "code",
   "execution_count": 9,
   "id": "f4b213f4",
   "metadata": {
    "id": "f4b213f4"
   },
   "outputs": [
    {
     "name": "stdout",
     "output_type": "stream",
     "text": [
      "(362, 15)\n"
     ]
    }
   ],
   "source": [
    "# Select just the subset of significan hits. I chose as threshold an e-value of 0.001\n",
    "sigDf = df.iloc[df.index[df['eval'] < 0.001]]\n",
    "print(sigDf.shape)"
   ]
  },
  {
   "cell_type": "markdown",
   "id": "HrZOok4sRAPu",
   "metadata": {
    "id": "HrZOok4sRAPu"
   },
   "source": [
    "4. Retrieve full protein sequences from the api https://www.ebi.ac.uk/proteins/api/proteins"
   ]
  },
  {
   "cell_type": "code",
   "execution_count": 10,
   "id": "46b34205",
   "metadata": {
    "id": "46b34205"
   },
   "outputs": [
    {
     "name": "stdout",
     "output_type": "stream",
     "text": [
      "SP:Q5R5B6 PDIA1_PONAB Protein disulfide-isomerase OS=Pongo abelii OX=9601 GN=P4HB PE=2 SV=1\n",
      "200\n",
      "200\n",
      "200\n",
      "200\n"
     ]
    }
   ],
   "source": [
    "# Download sequences in chunks (URL length is limited)\n",
    "\n",
    "out_file = 'prot_seqs_from_blast_P07237.fasta'\n",
    "\n",
    "URL = \"https://www.ebi.ac.uk/proteins/api/proteins\"\n",
    "\n",
    "print(sigDf['subject_id'][0])\n",
    "\n",
    "chunk_size = 100 \n",
    "with open(out_file, 'w') as fout:\n",
    "    accessions = list(set([acc.split(' ')[0].split(\":\")[1] for acc in sigDf['subject_id']]))\n",
    "    for i in range(0, len(accessions), chunk_size):\n",
    "        r = requests.get(URL, params={'accession': ','.join(accessions[i: i + chunk_size])}, \n",
    "                      headers={'Accept': 'text/x-fasta'})\n",
    "        print(r.status_code)\n",
    "        fout.write(r.text + \"\\n\")\n",
    "        \n",
    "\n"
   ]
  },
  {
   "cell_type": "markdown",
   "id": "vfP8LkfgRDN5",
   "metadata": {
    "id": "vfP8LkfgRDN5"
   },
   "source": [
    "5. Generate MSA from Clustal Omega at https://www.ebi.ac.uk/Tools/msa/clustalo/ \\\n",
    "Parameters:\n",
    "  - output format: Pearson/FASTA"
   ]
  },
  {
   "cell_type": "markdown",
   "id": "FU3QPTVzRGuE",
   "metadata": {
    "id": "FU3QPTVzRGuE"
   },
   "source": [
    "6. Refine results with JalView. \\\n",
    "    I produced different refined alignments:\n",
    "    1. (refined_1) Removed redundancy above 100% threshold, recomputed alignment with ClustalO with Default parameters, then removed empty columns, and then recomputed the alignment again. To do all this steps I just used the built-in functions in the upper toolbar.\n",
    "    2. (refined_2) No refinement.\n",
    "    3. (refined_3) Removed before 1256 and after 1457, then removed redundancy above 100% threshold, and then realigned with ClustalO with Default parameters.\n",
    "    4. (refined_4) Selected just the most conserved region, removing up to 1314 included, and from 1337 included on. Then removed redundancy as before and realigned.\n",
    "    5. (refined_5) Removed up to 328 included, and from 2599 included on. Then removed redundancy and realigned."
   ]
  },
  {
   "cell_type": "markdown",
   "id": "N6f4g_bjRRik",
   "metadata": {
    "id": "N6f4g_bjRRik"
   },
   "source": [
    "7. Generate a pssm model with command: \\\n",
    "`psiblast -subject irrelevant.fasta -in_msa refined_clustal_blast_P07237.fasta -out_ascii_pssm models/P07237_ascii_pssm.pssm_ascii -out_pssm models/P07237_pssm.pssm`\n",
    "\n",
    "To install psiblast on linux use:"
   ]
  },
  {
   "cell_type": "code",
   "execution_count": null,
   "id": "ae30b92a-15ad-46d8-a65b-7c682abf6e8f",
   "metadata": {},
   "outputs": [],
   "source": [
    "!wget https://ftp.ncbi.nlm.nih.gov/blast/executables/blast+/LATEST/ncbi-blast-2.13.0+-x64-linux.tar.gz\n",
    "!tar -xzf ncbi-blast-2.13.0+-x64-linux.tar.gz\n",
    "# Test\n",
    "!./ncbi-blast-2.13.0+/bin/psiblast"
   ]
  },
  {
   "cell_type": "markdown",
   "id": "d8d2c3c6",
   "metadata": {
    "id": "186704ca"
   },
   "source": [
    "8. Generate a hmm model with command: \\\n",
    "`hmmbuild P07237_hmm.hmm refined_clustal_blast_P07237.fasta`\n",
    "\n",
    "To install hmmbuild on linux use:"
   ]
  },
  {
   "cell_type": "code",
   "execution_count": null,
   "id": "ad9c1bf2",
   "metadata": {},
   "outputs": [],
   "source": [
    "!wget http://eddylab.org/software/hmmer/hmmer.tar.gz\n",
    "!tar -xzf hmmer.tar.gz\n",
    "!cd hmmer-3.3.2\n",
    "!./configure\n",
    "!make\n",
    "# Test\n",
    "!./src/hmmbuild"
   ]
  },
  {
   "cell_type": "markdown",
   "id": "579eec5c-6684-402b-82ef-030c92366828",
   "metadata": {},
   "source": [
    "or more simply"
   ]
  },
  {
   "cell_type": "code",
   "execution_count": null,
   "id": "e583aa73-5b00-4b04-975e-817da3f9acce",
   "metadata": {},
   "outputs": [],
   "source": [
    "!sudo apt install hmmer"
   ]
  }
 ],
 "metadata": {
  "colab": {
   "provenance": []
  },
  "kernelspec": {
   "display_name": "Python 3 (ipykernel)",
   "language": "python",
   "name": "python3"
  },
  "language_info": {
   "codemirror_mode": {
    "name": "ipython",
    "version": 3
   },
   "file_extension": ".py",
   "mimetype": "text/x-python",
   "name": "python",
   "nbconvert_exporter": "python",
   "pygments_lexer": "ipython3",
   "version": "3.10.4"
  }
 },
 "nbformat": 4,
 "nbformat_minor": 5
}
